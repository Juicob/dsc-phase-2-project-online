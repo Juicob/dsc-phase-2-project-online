{
 "cells": [
  {
   "cell_type": "code",
   "execution_count": 1,
   "metadata": {},
   "outputs": [
    {
     "name": "stdout",
     "output_type": "stream",
     "text": [
      "# packages in environment at C:\\ProgramData\\Anaconda3\\envs\\gis:\n",
      "#\n",
      "# Name                    Version                   Build  Channel\n",
      "arcgis                    1.8.2                 py38_1275    esri\n",
      "argon2-cffi               20.1.0           py38he774522_1  \n",
      "attrs                     20.2.0                     py_0  \n",
      "backcall                  0.2.0                      py_0  \n",
      "blas                      1.0                         mkl  \n",
      "bleach                    3.2.1                      py_0  \n",
      "blinker                   1.4                      py38_0  \n",
      "brotlipy                  0.7.0           py38he774522_1000  \n",
      "ca-certificates           2020.7.22                     0  \n",
      "certifi                   2020.6.20                py38_0  \n",
      "cffi                      1.14.3           py38h7a1dbc1_0  \n",
      "chardet                   3.0.4                 py38_1003  \n",
      "colorama                  0.4.3                      py_0  \n",
      "cryptography              2.8                      py38_0    esri\n",
      "cycler                    0.10.0                   py38_0  \n",
      "decorator                 4.4.2                      py_0  \n",
      "defusedxml                0.6.0                      py_0  \n",
      "entrypoints               0.3                      py38_0  \n",
      "freetype                  2.9.1                    vc14_0  [vc14]  esri\n",
      "icu                       58.2                 ha925a31_3  \n",
      "idna                      2.10                       py_0  \n",
      "importlib-metadata        1.7.0                    py38_0  \n",
      "importlib_metadata        1.7.0                         0  \n",
      "intel-openmp              2020.2                      254  \n",
      "ipykernel                 5.3.4            py38h5ca1d4c_0  \n",
      "ipython                   7.18.1           py38h5ca1d4c_0  \n",
      "ipython_genutils          0.2.0                    py38_0  \n",
      "ipywidgets                7.5.1                      py_1  \n",
      "jedi                      0.16.0                   py38_0    esri\n",
      "jinja2                    2.11.2                     py_0  \n",
      "jpeg                      9b                   hb83a4c4_2  \n",
      "jsonschema                3.2.0                    py38_1  \n",
      "jupyter_client            6.1.2                    py38_0    esri\n",
      "jupyter_core              4.6.3                    py38_2    esri\n",
      "keyring                   21.2.0                   py38_0    esri\n",
      "kiwisolver                1.2.0            py38h74a9793_0  \n",
      "lerc                      2.2                        py_0    esri\n",
      "libpng                    1.6.37               h2a8f88b_0  \n",
      "libsodium                 1.0.18                        1    esri\n",
      "markupsafe                1.1.1            py38he774522_0  \n",
      "matplotlib                3.2.2                         0  \n",
      "matplotlib-base           3.2.2            py38h64f37c6_0  \n",
      "mistune                   0.8.4           py38he774522_1000  \n",
      "mkl                       2020.2                      256  \n",
      "mkl-service               2.3.0            py38hb782905_0  \n",
      "mkl_fft                   1.2.0            py38h45dec08_0  \n",
      "mkl_random                1.1.1            py38h47e9c7a_0  \n",
      "nbconvert                 5.6.1                    py38_0    esri\n",
      "nbformat                  5.0.7                    py38_0    esri\n",
      "notebook                  6.1.4                    py38_1    esri\n",
      "ntlm-auth                 1.4.0                      py_0    esri\n",
      "numpy                     1.19.1           py38h5510c5b_0  \n",
      "numpy-base                1.19.1           py38ha3acd2a_0  \n",
      "oauthlib                  3.1.0                      py_0  \n",
      "openssl                   1.1.1h               he774522_0  \n",
      "packaging                 20.4                       py_0  \n",
      "pandas                    1.1.2            py38ha925a31_0  \n",
      "pandocfilters             1.4.2                    py38_1  \n",
      "parso                     0.8.0                      py_0  \n",
      "pickleshare               0.7.5                 py38_1000  \n",
      "pip                       20.2.3                   py38_0  \n",
      "prometheus_client         0.7.1                    py38_0    esri\n",
      "prompt-toolkit            3.0.7                      py_0  \n",
      "pycparser                 2.20                       py_2  \n",
      "pygments                  2.6.1                    py38_0    esri\n",
      "pyjwt                     1.7.1                    py38_0  \n",
      "pyopenssl                 19.1.0                     py_1  \n",
      "pyparsing                 2.4.7                      py_0  \n",
      "pyqt                      5.9.2            py38ha925a31_4  \n",
      "pyrsistent                0.17.3           py38he774522_0  \n",
      "pyshp                     2.1.2                      py_0  \n",
      "pysocks                   1.7.1                    py38_0  \n",
      "python                    3.8.5                h5fd99cc_1  \n",
      "python-dateutil           2.8.1                      py_0  \n",
      "pytz                      2019.3                   py38_0    esri\n",
      "pywin32-ctypes            0.2.0                    py38_0    esri\n",
      "pywin32-security          227                      py38_1    esri\n",
      "pywinpty                  0.5.7                    py38_0    esri\n",
      "pyzmq                     19.0.0                   py38_0    esri\n",
      "qt                        5.9.7            vc14h73c81de_0  \n",
      "requests                  2.24.0                     py_0  \n",
      "requests-kerberos         0.12.0                        0    esri\n",
      "requests-oauthlib         1.3.0                      py_0  \n",
      "requests-toolbelt         0.9.1                      py_0  \n",
      "requests_ntlm             1.1.0                      py_0    esri\n",
      "send2trash                1.5.0                    py38_0  \n",
      "setuptools                49.6.0                   py38_1  \n",
      "sip                       4.19.13          py38ha925a31_0  \n",
      "six                       1.15.0                     py_0  \n",
      "sqlite                    3.33.0               h2a8f88b_0  \n",
      "terminado                 0.8.3                    py38_0  \n",
      "testpath                  0.4.4                      py_0  \n",
      "tornado                   6.0.4            py38he774522_1  \n",
      "traitlets                 5.0.4                      py_0  \n",
      "urllib3                   1.25.10                    py_0  \n",
      "vc                        14.1                 h0510ff6_4  \n",
      "vs2015_runtime            14.16.27012          hf0eaf9b_0    esri\n",
      "wcwidth                   0.2.5                      py_0  \n",
      "webencodings              0.5.1                    py38_1  \n",
      "wheel                     0.35.1                     py_0  \n",
      "widgetsnbextension        3.5.1                    py38_0  \n",
      "win_inet_pton             1.1.0                    py38_0  \n",
      "wincertstore              0.2                      py38_0  \n",
      "winkerberos               0.7.0                    py38_0    esri\n",
      "winpty                    0.4.3                         4  \n",
      "zeromq                    4.3.2                         1    esri\n",
      "zipp                      3.1.0                      py_0  \n",
      "zlib                      1.2.11               h62dcd97_4  \n"
     ]
    }
   ],
   "source": [
    "!conda list"
   ]
  },
  {
   "cell_type": "code",
   "execution_count": 155,
   "metadata": {},
   "outputs": [],
   "source": [
    "from arcgis.gis import GIS\n",
    "import datetime as dt\n",
    "from geopy import distance\n",
    "import arcgis.network as network\n",
    "from arcgis.features import GeoAccessor, GeoSeriesAccessor, FeatureLayer, FeatureSet, FeatureCollection\n",
    "from arcgis.geocoding import geocode\n",
    "import openbrewerydb\n"
   ]
  },
  {
   "cell_type": "code",
   "execution_count": 46,
   "metadata": {},
   "outputs": [],
   "source": [
    "gis = GIS()"
   ]
  },
  {
   "cell_type": "code",
   "execution_count": 47,
   "metadata": {},
   "outputs": [
    {
     "data": {
      "application/vnd.jupyter.widget-view+json": {
       "model_id": "0c978a40d21c46919bc02a647b87a9ce",
       "version_major": 2,
       "version_minor": 0
      },
      "text/plain": [
       "MapView(layout=Layout(height='400px', width='100%'))"
      ]
     },
     "metadata": {},
     "output_type": "display_data"
    },
    {
     "data": {
      "text/html": [
       "<div class=\"map-static-img-preview-1403e5e9-5f6f-4119-a8f6-52d9dc57946b\"><img src=\"\"></img></div>"
      ],
      "text/plain": [
       "<IPython.core.display.HTML object>"
      ]
     },
     "metadata": {},
     "output_type": "display_data"
    }
   ],
   "source": [
    "map = gis.map('Seattle,WA', zoomlevel=12)\n",
    "map"
   ]
  },
  {
   "cell_type": "code",
   "execution_count": 48,
   "metadata": {},
   "outputs": [],
   "source": [
    "location = geocode('Seattle,WA', max_locations=1)[0]\n",
    "map.extent = location['extent']"
   ]
  },
  {
   "cell_type": "code",
   "execution_count": 49,
   "metadata": {},
   "outputs": [
    {
     "data": {
      "text/plain": [
       "{'spatialReference': {'latestWkid': 3857, 'wkid': 102100},\n",
       " 'xmin': -13636455.59197911,\n",
       " 'ymin': 6033510.891587942,\n",
       " 'xmax': -13598848.574062856,\n",
       " 'ymax': 6048798.297244956}"
      ]
     },
     "execution_count": 49,
     "metadata": {},
     "output_type": "execute_result"
    }
   ],
   "source": [
    "map.extent"
   ]
  },
  {
   "cell_type": "code",
   "execution_count": 50,
   "metadata": {},
   "outputs": [],
   "source": [
    "hospitals = geocode('Hopsital',\n",
    "                    location['extent'],\n",
    "                     max_locations=10)\n",
    "for hospital in hospitals:\n",
    "    map.draw(hospital['location'])"
   ]
  },
  {
   "cell_type": "code",
   "execution_count": 52,
   "metadata": {},
   "outputs": [
    {
     "data": {
      "application/vnd.jupyter.widget-view+json": {
       "model_id": "0c978a40d21c46919bc02a647b87a9ce",
       "version_major": 2,
       "version_minor": 0
      },
      "text/plain": [
       "MapView(jupyter_target='notebook', layout=Layout(height='400px', width='100%'), ready=True)"
      ]
     },
     "metadata": {},
     "output_type": "display_data"
    },
    {
     "data": {
      "text/html": [
       "<div class=\"map-static-img-preview-1403e5e9-5f6f-4119-a8f6-52d9dc57946b\"><img src=\"\"></img></div>"
      ],
      "text/plain": [
       "<IPython.core.display.HTML object>"
      ]
     },
     "metadata": {},
     "output_type": "display_data"
    }
   ],
   "source": [
    "hospitals\n",
    "map"
   ]
  },
  {
   "cell_type": "code",
   "execution_count": 114,
   "metadata": {},
   "outputs": [
    {
     "data": {
      "application/vnd.jupyter.widget-view+json": {
       "model_id": "f1971ed2249f440baea1be7fa77bc584",
       "version_major": 2,
       "version_minor": 0
      },
      "text/plain": [
       "MapView(layout=Layout(height='400px', width='100%'))"
      ]
     },
     "metadata": {},
     "output_type": "display_data"
    },
    {
     "data": {
      "text/html": [
       "<div class=\"map-static-img-preview-ab103cc9-61d9-4717-b934-e2a119265d3b\"><img src=\"\"></img></div>"
      ],
      "text/plain": [
       "<IPython.core.display.HTML object>"
      ]
     },
     "metadata": {},
     "output_type": "display_data"
    }
   ],
   "source": [
    "seattle = geocode(\"University of Washington\")[0]\n",
    "map = gis.map(seattle, zoomlevel=12)\n",
    "map"
   ]
  },
  {
   "cell_type": "code",
   "execution_count": 140,
   "metadata": {},
   "outputs": [
    {
     "ename": "TypeError",
     "evalue": "can only concatenate str (not \"float\") to str",
     "output_type": "error",
     "traceback": [
      "\u001b[1;31m---------------------------------------------------------------------------\u001b[0m",
      "\u001b[1;31mTypeError\u001b[0m                                 Traceback (most recent call last)",
      "\u001b[1;32m<ipython-input-140-a8ceb799eb8b>\u001b[0m in \u001b[0;36m<module>\u001b[1;34m\u001b[0m\n\u001b[0;32m      5\u001b[0m     \u001b[1;34m\"content\"\u001b[0m \u001b[1;33m:\u001b[0m \u001b[1;34m\"Phone: \"\u001b[0m \u001b[1;33m+\u001b[0m \u001b[0mstr\u001b[0m\u001b[1;33m(\u001b[0m\u001b[0mp\u001b[0m\u001b[1;33m)\u001b[0m \u001b[1;33m+\u001b[0m \u001b[0mstr\u001b[0m\u001b[1;33m(\u001b[0m\u001b[0mu\u001b[0m\u001b[1;33m)\u001b[0m\u001b[1;33m\u001b[0m\u001b[1;33m\u001b[0m\u001b[0m\n\u001b[0;32m      6\u001b[0m     }\n\u001b[1;32m----> 7\u001b[1;33m     \u001b[0mmap\u001b[0m\u001b[1;33m.\u001b[0m\u001b[0mdraw\u001b[0m\u001b[1;33m(\u001b[0m\u001b[1;33m(\u001b[0m\u001b[0mla\u001b[0m\u001b[1;33m,\u001b[0m\u001b[0mlo\u001b[0m\u001b[1;33m)\u001b[0m\u001b[1;33m,\u001b[0m \u001b[0mpopup\u001b[0m\u001b[1;33m)\u001b[0m\u001b[1;33m\u001b[0m\u001b[1;33m\u001b[0m\u001b[0m\n\u001b[0m",
      "\u001b[1;32mC:\\ProgramData\\Anaconda3\\envs\\gis\\lib\\site-packages\\arcgis\\widgets\\_mapview\\_mapview.py\u001b[0m in \u001b[0;36mdraw\u001b[1;34m(self, shape, popup, symbol, attributes)\u001b[0m\n\u001b[0;32m   1796\u001b[0m             \u001b[1;31m# Now that the `fset` is set, add to webmap\u001b[0m\u001b[1;33m\u001b[0m\u001b[1;33m\u001b[0m\u001b[1;33m\u001b[0m\u001b[0m\n\u001b[0;32m   1797\u001b[0m             \u001b[1;32mif\u001b[0m \u001b[0mpopup\u001b[0m\u001b[1;33m:\u001b[0m\u001b[1;33m\u001b[0m\u001b[1;33m\u001b[0m\u001b[0m\n\u001b[1;32m-> 1798\u001b[1;33m                 webmap_popup = {'title':\"{\" +popup['title']+\"}\",\n\u001b[0m\u001b[0;32m   1799\u001b[0m                                 'description':\"{\" + popup['content'] +\"}\"}\n\u001b[0;32m   1800\u001b[0m             \u001b[1;32melse\u001b[0m\u001b[1;33m:\u001b[0m\u001b[1;33m\u001b[0m\u001b[1;33m\u001b[0m\u001b[0m\n",
      "\u001b[1;31mTypeError\u001b[0m: can only concatenate str (not \"float\") to str"
     ]
    }
   ],
   "source": [
    "# find and plot upto 100 Indian hospitals around Union Square in San Francisco, CA\n",
    "for n,p,u,la,lo in brewery_names, brewery_phone, brewery_lats, brewery_longs:\n",
    "    popup = { \n",
    "    \"title\" : n, \n",
    "    \"content\" : \"Phone: \" + str(p) + str(u)\n",
    "    }\n",
    "    map.draw((la,lo), popup)"
   ]
  },
  {
   "cell_type": "code",
   "execution_count": 70,
   "metadata": {},
   "outputs": [],
   "source": [
    "hospitals = ['University of Washington Medical Center', \n",
    "             'Virginia Mason Hospital', \n",
    "             'Children\\'s Hospital']"
   ]
  },
  {
   "cell_type": "code",
   "execution_count": 72,
   "metadata": {},
   "outputs": [
    {
     "ename": "IndexError",
     "evalue": "list index out of range",
     "output_type": "error",
     "traceback": [
      "\u001b[1;31m---------------------------------------------------------------------------\u001b[0m",
      "\u001b[1;31mIndexError\u001b[0m                                Traceback (most recent call last)",
      "\u001b[1;32m<ipython-input-72-ce8d2d95b685>\u001b[0m in \u001b[0;36m<module>\u001b[1;34m\u001b[0m\n\u001b[0;32m      1\u001b[0m \u001b[0mh_deets\u001b[0m \u001b[1;33m=\u001b[0m\u001b[1;33m[\u001b[0m\u001b[1;33m]\u001b[0m\u001b[1;33m\u001b[0m\u001b[1;33m\u001b[0m\u001b[0m\n\u001b[0;32m      2\u001b[0m \u001b[1;32mfor\u001b[0m \u001b[0mh\u001b[0m \u001b[1;32min\u001b[0m \u001b[0mhospitals\u001b[0m\u001b[1;33m:\u001b[0m\u001b[1;33m\u001b[0m\u001b[1;33m\u001b[0m\u001b[0m\n\u001b[1;32m----> 3\u001b[1;33m     \u001b[0mh_deets\u001b[0m\u001b[1;33m.\u001b[0m\u001b[0mappend\u001b[0m\u001b[1;33m(\u001b[0m\u001b[0mgeocode\u001b[0m\u001b[1;33m(\u001b[0m\u001b[0mh\u001b[0m\u001b[1;33m,\u001b[0m \u001b[0mseattle\u001b[0m\u001b[1;33m[\u001b[0m\u001b[1;34m'extent'\u001b[0m\u001b[1;33m]\u001b[0m\u001b[1;33m,\u001b[0m \u001b[0mmax_locations\u001b[0m\u001b[1;33m=\u001b[0m\u001b[1;36m1\u001b[0m\u001b[1;33m)\u001b[0m\u001b[1;33m[\u001b[0m\u001b[1;36m0\u001b[0m\u001b[1;33m]\u001b[0m\u001b[1;33m)\u001b[0m\u001b[1;33m\u001b[0m\u001b[1;33m\u001b[0m\u001b[0m\n\u001b[0m",
      "\u001b[1;31mIndexError\u001b[0m: list index out of range"
     ]
    }
   ],
   "source": [
    "h_deets =[]\n",
    "for h in hospitals:\n",
    "    h_deets.append(geocode(h, seattle['extent'], max_locations=1)[0])\n"
   ]
  },
  {
   "cell_type": "code",
   "execution_count": 79,
   "metadata": {},
   "outputs": [],
   "source": [
    "seattle_micros = openbrewerydb.load(state='washington', city='seattle', brewery_type='micro', verbose=False)"
   ]
  },
  {
   "cell_type": "code",
   "execution_count": 90,
   "metadata": {},
   "outputs": [
    {
     "data": {
      "text/html": [
       "<div>\n",
       "<style scoped>\n",
       "    .dataframe tbody tr th:only-of-type {\n",
       "        vertical-align: middle;\n",
       "    }\n",
       "\n",
       "    .dataframe tbody tr th {\n",
       "        vertical-align: top;\n",
       "    }\n",
       "\n",
       "    .dataframe thead th {\n",
       "        text-align: right;\n",
       "    }\n",
       "</style>\n",
       "<table border=\"1\" class=\"dataframe\">\n",
       "  <thead>\n",
       "    <tr style=\"text-align: right;\">\n",
       "      <th></th>\n",
       "      <th>id</th>\n",
       "      <th>name</th>\n",
       "      <th>brewery_type</th>\n",
       "      <th>street</th>\n",
       "      <th>city</th>\n",
       "      <th>state</th>\n",
       "      <th>postal_code</th>\n",
       "      <th>country</th>\n",
       "      <th>longitude</th>\n",
       "      <th>latitude</th>\n",
       "      <th>phone</th>\n",
       "      <th>website_url</th>\n",
       "      <th>updated_at</th>\n",
       "    </tr>\n",
       "  </thead>\n",
       "  <tbody>\n",
       "    <tr>\n",
       "      <th>17</th>\n",
       "      <td>7505</td>\n",
       "      <td>Holy Mountain Brewing Co</td>\n",
       "      <td>micro</td>\n",
       "      <td>1421 Elliott Ave W</td>\n",
       "      <td>Seattle</td>\n",
       "      <td>Washington</td>\n",
       "      <td>98119-3104</td>\n",
       "      <td>United States</td>\n",
       "      <td>-122.374561</td>\n",
       "      <td>47.630828</td>\n",
       "      <td>2064988435</td>\n",
       "      <td>http://holymountainbrewing.com</td>\n",
       "      <td>2018-08-24T16:35:45.468Z</td>\n",
       "    </tr>\n",
       "    <tr>\n",
       "      <th>23</th>\n",
       "      <td>7599</td>\n",
       "      <td>Optimism Brewing Company</td>\n",
       "      <td>micro</td>\n",
       "      <td>1158 Broadway</td>\n",
       "      <td>Seattle</td>\n",
       "      <td>Washington</td>\n",
       "      <td>98122-3822</td>\n",
       "      <td>United States</td>\n",
       "      <td>NaN</td>\n",
       "      <td>NaN</td>\n",
       "      <td>2062289227</td>\n",
       "      <td>http://www.optimismbrewing.com</td>\n",
       "      <td>2018-08-11T21:40:22.865Z</td>\n",
       "    </tr>\n",
       "    <tr>\n",
       "      <th>31</th>\n",
       "      <td>7639</td>\n",
       "      <td>Reuben's Brews Taproom</td>\n",
       "      <td>micro</td>\n",
       "      <td>5010 14th Ave NW</td>\n",
       "      <td>Seattle</td>\n",
       "      <td>Washington</td>\n",
       "      <td>98107-5113</td>\n",
       "      <td>United States</td>\n",
       "      <td>-122.373247</td>\n",
       "      <td>47.665409</td>\n",
       "      <td>2067842859</td>\n",
       "      <td>http://www.reubensbrews.com</td>\n",
       "      <td>2018-08-24T16:38:39.980Z</td>\n",
       "    </tr>\n",
       "    <tr>\n",
       "      <th>35</th>\n",
       "      <td>7685</td>\n",
       "      <td>Stoup Brewing</td>\n",
       "      <td>micro</td>\n",
       "      <td>1108 NW 52nd St</td>\n",
       "      <td>Seattle</td>\n",
       "      <td>Washington</td>\n",
       "      <td>98107-5129</td>\n",
       "      <td>United States</td>\n",
       "      <td>-122.371188</td>\n",
       "      <td>47.666640</td>\n",
       "      <td>2064575524</td>\n",
       "      <td>http://www.stoupbrewing.com</td>\n",
       "      <td>2018-08-24T16:39:46.431Z</td>\n",
       "    </tr>\n",
       "    <tr>\n",
       "      <th>37</th>\n",
       "      <td>7718</td>\n",
       "      <td>Urban Family Brewing</td>\n",
       "      <td>micro</td>\n",
       "      <td>4441 26th Ave W</td>\n",
       "      <td>Seattle</td>\n",
       "      <td>Washington</td>\n",
       "      <td>98199-1218</td>\n",
       "      <td>United States</td>\n",
       "      <td>-122.390298</td>\n",
       "      <td>47.660586</td>\n",
       "      <td>2069468533</td>\n",
       "      <td>http://www.urbanfamilybrewing.com</td>\n",
       "      <td>2018-08-24T16:40:24.635Z</td>\n",
       "    </tr>\n",
       "  </tbody>\n",
       "</table>\n",
       "</div>"
      ],
      "text/plain": [
       "      id                      name brewery_type              street     city  \\\n",
       "17  7505  Holy Mountain Brewing Co        micro  1421 Elliott Ave W  Seattle   \n",
       "23  7599  Optimism Brewing Company        micro       1158 Broadway  Seattle   \n",
       "31  7639    Reuben's Brews Taproom        micro    5010 14th Ave NW  Seattle   \n",
       "35  7685             Stoup Brewing        micro     1108 NW 52nd St  Seattle   \n",
       "37  7718      Urban Family Brewing        micro     4441 26th Ave W  Seattle   \n",
       "\n",
       "         state postal_code        country   longitude   latitude       phone  \\\n",
       "17  Washington  98119-3104  United States -122.374561  47.630828  2064988435   \n",
       "23  Washington  98122-3822  United States         NaN        NaN  2062289227   \n",
       "31  Washington  98107-5113  United States -122.373247  47.665409  2067842859   \n",
       "35  Washington  98107-5129  United States -122.371188  47.666640  2064575524   \n",
       "37  Washington  98199-1218  United States -122.390298  47.660586  2069468533   \n",
       "\n",
       "                          website_url                updated_at  \n",
       "17     http://holymountainbrewing.com  2018-08-24T16:35:45.468Z  \n",
       "23     http://www.optimismbrewing.com  2018-08-11T21:40:22.865Z  \n",
       "31        http://www.reubensbrews.com  2018-08-24T16:38:39.980Z  \n",
       "35        http://www.stoupbrewing.com  2018-08-24T16:39:46.431Z  \n",
       "37  http://www.urbanfamilybrewing.com  2018-08-24T16:40:24.635Z  "
      ]
     },
     "execution_count": 90,
     "metadata": {},
     "output_type": "execute_result"
    }
   ],
   "source": [
    "fav_seattle_micros = seattle_micros.iloc[[17, 23, 31, 35, 37]]\n",
    "fav_seattle_micros"
   ]
  },
  {
   "cell_type": "code",
   "execution_count": 111,
   "metadata": {},
   "outputs": [],
   "source": [
    "# updating lat and lon for nan values for optimism brewing\n",
    "fav_seattle_micros.at[23, 'longitude'] = -122.3205327\n",
    "fav_seattle_micros.at[23, 'latitude'] = 47.6128"
   ]
  },
  {
   "cell_type": "code",
   "execution_count": 162,
   "metadata": {},
   "outputs": [],
   "source": [
    "brewery_names = list(fav_seattle_micros['name'])\n",
    "brewery_phone = list(fav_seattle_micros['phone'])\n",
    "brewery_lats = list(fav_seattle_micros['latitude'])\n",
    "brewery_longs = list(fav_seattle_micros['longitude'])\n",
    "start = (47.5112, -122.257)\n",
    "start_time = int(dt.datetime.now().timestamp() * 1000)"
   ]
  },
  {
   "cell_type": "code",
   "execution_count": 163,
   "metadata": {},
   "outputs": [
    {
     "name": "stdout",
     "output_type": "stream",
     "text": [
      "distance using geopy:  9.925335899544237\n"
     ]
    }
   ],
   "source": [
    "distance_1 = distance.distance(start, (47.630828, -122.374561)).mi\n",
    "print('distance using geopy: ', distance_1)"
   ]
  },
  {
   "cell_type": "code",
   "execution_count": 148,
   "metadata": {},
   "outputs": [
    {
     "data": {
      "text/plain": [
       "<function arcgis.features.layer.FeatureLayer.query(self, where='1=1', out_fields='*', time_filter=None, geometry_filter=None, return_geometry=True, return_count_only=False, return_ids_only=False, return_distinct_values=False, return_extent_only=False, group_by_fields_for_statistics=None, statistic_filter=None, result_offset=None, result_record_count=None, object_ids=None, distance=None, units=None, max_allowable_offset=None, out_sr=None, geometry_precision=None, gdb_version=None, order_by_fields=None, out_statistics=None, return_z=False, return_m=False, multipatch_option=None, quantization_parameters=None, return_centroid=False, return_all_records=True, result_type=None, historic_moment=None, sql_format=None, return_true_curves=False, return_exceeded_limit_features=None, as_df=False, datum_transformation=None, **kwargs)>"
      ]
     },
     "execution_count": 148,
     "metadata": {},
     "output_type": "execute_result"
    }
   ],
   "source": [
    "distance_geopy = distance.distance(coordinates_from, coordinates_to).km\n",
    "print('distance using geopy: ', distance_geopy)"
   ]
  },
  {
   "cell_type": "code",
   "execution_count": null,
   "metadata": {},
   "outputs": [],
   "source": []
  }
 ],
 "metadata": {
  "kernelspec": {
   "display_name": "Python 3",
   "language": "python",
   "name": "python3"
  },
  "language_info": {
   "codemirror_mode": {
    "name": "ipython",
    "version": 3
   },
   "file_extension": ".py",
   "mimetype": "text/x-python",
   "name": "python",
   "nbconvert_exporter": "python",
   "pygments_lexer": "ipython3",
   "version": "3.8.5"
  }
 },
 "nbformat": 4,
 "nbformat_minor": 4
}
